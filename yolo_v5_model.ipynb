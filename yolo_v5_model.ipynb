{
  "nbformat": 4,
  "nbformat_minor": 0,
  "metadata": {
    "colab": {
      "name": "yolo-v5_model",
      "provenance": [],
      "authorship_tag": "ABX9TyMdeTz5hiJwPdfINxOQT5tA",
      "include_colab_link": true
    },
    "kernelspec": {
      "name": "python3",
      "display_name": "Python 3"
    }
  },
  "cells": [
    {
      "cell_type": "markdown",
      "metadata": {
        "id": "view-in-github",
        "colab_type": "text"
      },
      "source": [
        "<a href=\"https://colab.research.google.com/github/KD-3/DeepLearningMovidiusNCS/blob/master/yolo_v5_model.ipynb\" target=\"_parent\"><img src=\"https://colab.research.google.com/assets/colab-badge.svg\" alt=\"Open In Colab\"/></a>"
      ]
    },
    {
      "cell_type": "markdown",
      "metadata": {
        "id": "7c4PL0G1HqEF",
        "colab_type": "text"
      },
      "source": [
        "Using the YOLO5 Model"
      ]
    },
    {
      "cell_type": "code",
      "metadata": {
        "id": "bD2_X5H-pAEv",
        "colab_type": "code",
        "colab": {}
      },
      "source": [
        ""
      ],
      "execution_count": null,
      "outputs": []
    }
  ]
}