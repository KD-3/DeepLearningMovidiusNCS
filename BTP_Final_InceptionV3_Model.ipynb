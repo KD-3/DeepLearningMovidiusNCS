{
  "nbformat": 4,
  "nbformat_minor": 0,
  "metadata": {
    "colab": {
      "name": "BTP_Final_InceptionV3_Model",
      "provenance": [],
      "authorship_tag": "ABX9TyOTeul3wlJvUhUlX0OowbKm"
    },
    "kernelspec": {
      "name": "python3",
      "display_name": "Python 3"
    }
  },
  "cells": [
    {
      "cell_type": "code",
      "metadata": {
        "id": "s8nBLrDw7urc",
        "colab_type": "code",
        "colab": {}
      },
      "source": [
        "from google.colab import drive\n",
        "drive.mount('/gdrive')"
      ],
      "execution_count": null,
      "outputs": []
    },
    {
      "cell_type": "code",
      "metadata": {
        "id": "Pj4RIJO574K_",
        "colab_type": "code",
        "colab": {}
      },
      "source": [
        "import os\n",
        "import zipfile\n",
        "\n",
        "local_zip = '/content/drive/My Drive/NEU-DET_new.zip'\n",
        "zip_ref = zipfile.ZipFile(local_zip, 'r')\n",
        "zip_ref.extractall('./')\n",
        "zip_ref.close()"
      ],
      "execution_count": null,
      "outputs": []
    },
    {
      "cell_type": "code",
      "metadata": {
        "id": "Zs8Gurfn8B1x",
        "colab_type": "code",
        "colab": {}
      },
      "source": [
        "train_crazing_dir = os.path.join('/content/NEU-DET/train/images/crazing')\n",
        "train_inclusion_dir = os.path.join('/content/NEU-DET/train/images/inclusion/')\n",
        "train_patches_dir = os.path.join('/content/NEU-DET/train/images/patches/')\n",
        "train_pitted_surface_dir = os.path.join('/content/NEU-DET/train/images/pitted_surface/')\n",
        "train_rolledin_scale_dir = os.path.join('/content/NEU-DET/train/images/rolled-in_scale/')\n",
        "train_scratches_dir = os.path.join('/content/NEU-DET/train/images/scratches/')"
      ],
      "execution_count": null,
      "outputs": []
    },
    {
      "cell_type": "code",
      "metadata": {
        "id": "hnZ9p-Wg8G_U",
        "colab_type": "code",
        "colab": {}
      },
      "source": [
        "train_crazing_names = os.listdir(train_crazing_dir)\n",
        "train_inclusion_names = os.listdir(train_inclusion_dir)\n",
        "train_patches_names = os.listdir(train_patches_dir)\n",
        "train_pitted_surface_names = os.listdir(train_pitted_surface_dir)\n",
        "train_rolledin_scale_names = os.listdir(train_rolledin_scale_dir)\n",
        "train_scratches_names = os.listdir(train_scratches_dir)"
      ],
      "execution_count": null,
      "outputs": []
    },
    {
      "cell_type": "code",
      "metadata": {
        "id": "LwR8IU2v8Jo1",
        "colab_type": "code",
        "colab": {}
      },
      "source": [
        "print('total training crazing images:', len(train_crazing_names))\n",
        "print('total training crazing images:', len(train_inclusion_names))\n",
        "print('total training crazing images:', len(train_patches_names))\n",
        "print('total training crazing images:', len(train_pitted_surface_names))\n",
        "print('total training crazing images:', len(train_rolledin_scale_names))\n",
        "print('total training crazing images:', len(train_scratches_names))"
      ],
      "execution_count": null,
      "outputs": []
    },
    {
      "cell_type": "code",
      "metadata": {
        "id": "n-MZcN7Q8MmH",
        "colab_type": "code",
        "colab": {}
      },
      "source": [
        "import tensorflow as tf"
      ],
      "execution_count": null,
      "outputs": []
    },
    {
      "cell_type": "code",
      "metadata": {
        "id": "8Y8BCs-g8Phk",
        "colab_type": "code",
        "colab": {}
      },
      "source": [
        "# Add InceptionV3 Model -------TODO"
      ],
      "execution_count": null,
      "outputs": []
    }
  ]
}