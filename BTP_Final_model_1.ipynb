{
  "nbformat": 4,
  "nbformat_minor": 0,
  "metadata": {
    "colab": {
      "name": "BTP_Final_model_1",
      "provenance": [],
      "mount_file_id": "1BE7Pf9phr7c6uT5F8eS5O58z6_cCyAWc",
      "authorship_tag": "ABX9TyOBihmCPRRu06/hUNznXApK"
    },
    "kernelspec": {
      "name": "python3",
      "display_name": "Python 3"
    },
    "accelerator": "GPU"
  },
  "cells": [
    {
      "cell_type": "code",
      "metadata": {
        "id": "0eGJCKeksosL",
        "colab_type": "code",
        "colab": {
          "base_uri": "https://localhost:8080/",
          "height": 124
        },
        "outputId": "e9c6d86b-64ea-45b3-fb85-0223e3948ee8"
      },
      "source": [
        "from google.colab import drive\n",
        "drive.mount('/gdrive')"
      ],
      "execution_count": 1,
      "outputs": [
        {
          "output_type": "stream",
          "text": [
            "Go to this URL in a browser: https://accounts.google.com/o/oauth2/auth?client_id=947318989803-6bn6qk8qdgf4n4g3pfee6491hc0brc4i.apps.googleusercontent.com&redirect_uri=urn%3aietf%3awg%3aoauth%3a2.0%3aoob&response_type=code&scope=email%20https%3a%2f%2fwww.googleapis.com%2fauth%2fdocs.test%20https%3a%2f%2fwww.googleapis.com%2fauth%2fdrive%20https%3a%2f%2fwww.googleapis.com%2fauth%2fdrive.photos.readonly%20https%3a%2f%2fwww.googleapis.com%2fauth%2fpeopleapi.readonly\n",
            "\n",
            "Enter your authorization code:\n",
            "··········\n",
            "Mounted at /gdrive\n"
          ],
          "name": "stdout"
        }
      ]
    },
    {
      "cell_type": "code",
      "metadata": {
        "id": "cPeniZg1PToG",
        "colab_type": "code",
        "colab": {}
      },
      "source": [
        "import os\n",
        "import zipfile\n",
        "\n",
        "local_zip = '/gdrive/My Drive/NEU-DET_new.zip'\n",
        "zip_ref = zipfile.ZipFile(local_zip, 'r')\n",
        "zip_ref.extractall('./')\n",
        "zip_ref.close()\n",
        "mv "
      ],
      "execution_count": 2,
      "outputs": []
    },
    {
      "cell_type": "code",
      "metadata": {
        "id": "BbS7LSJNRomY",
        "colab_type": "code",
        "colab": {}
      },
      "source": [
        "train_crazing_dir = os.path.join('/content/NEU-DET/train/images/crazing')\n",
        "train_inclusion_dir = os.path.join('/content/NEU-DET/train/images/inclusion/')\n",
        "train_patches_dir = os.path.join('/content/NEU-DET/train/images/patches/')\n",
        "train_pitted_surface_dir = os.path.join('/content/NEU-DET/train/images/pitted_surface/')\n",
        "train_rolledin_scale_dir = os.path.join('/content/NEU-DET/train/images/rolled-in_scale/')\n",
        "train_scratches_dir = os.path.join('/content/NEU-DET/train/images/scratches/')"
      ],
      "execution_count": 3,
      "outputs": []
    },
    {
      "cell_type": "code",
      "metadata": {
        "id": "65UjXbBRegK-",
        "colab_type": "code",
        "colab": {}
      },
      "source": [
        "train_crazing_names = os.listdir(train_crazing_dir)\n",
        "train_inclusion_names = os.listdir(train_inclusion_dir)\n",
        "train_patches_names = os.listdir(train_patches_dir)\n",
        "train_pitted_surface_names = os.listdir(train_pitted_surface_dir)\n",
        "train_rolledin_scale_names = os.listdir(train_rolledin_scale_dir)\n",
        "train_scratches_names = os.listdir(train_scratches_dir)"
      ],
      "execution_count": 4,
      "outputs": []
    },
    {
      "cell_type": "code",
      "metadata": {
        "id": "O_9eMwYEeMw5",
        "colab_type": "code",
        "colab": {
          "base_uri": "https://localhost:8080/",
          "height": 121
        },
        "outputId": "6cc1db2d-8e04-456c-adee-36d8e83d8864"
      },
      "source": [
        "print('total training crazing images:', len(train_crazing_names))\n",
        "print('total training crazing images:', len(train_inclusion_names))\n",
        "print('total training crazing images:', len(train_patches_names))\n",
        "print('total training crazing images:', len(train_pitted_surface_names))\n",
        "print('total training crazing images:', len(train_rolledin_scale_names))\n",
        "print('total training crazing images:', len(train_scratches_names))"
      ],
      "execution_count": 5,
      "outputs": [
        {
          "output_type": "stream",
          "text": [
            "total training crazing images: 240\n",
            "total training crazing images: 240\n",
            "total training crazing images: 240\n",
            "total training crazing images: 240\n",
            "total training crazing images: 240\n",
            "total training crazing images: 240\n"
          ],
          "name": "stdout"
        }
      ]
    },
    {
      "cell_type": "code",
      "metadata": {
        "id": "B2esQu_0fR87",
        "colab_type": "code",
        "colab": {}
      },
      "source": [
        "import tensorflow as tf"
      ],
      "execution_count": 6,
      "outputs": []
    },
    {
      "cell_type": "code",
      "metadata": {
        "id": "jZOTBIuZg9M-",
        "colab_type": "code",
        "colab": {}
      },
      "source": [
        "model = tf.keras.models.Sequential([\n",
        "                                    # First Convolution\n",
        "                                    tf.keras.layers.Conv2D(32, (3,3), activation='relu', input_shape=(224, 224, 3)),\n",
        "                                    tf.keras.layers.MaxPooling2D(2, 2),\n",
        "                                    # Second Convolution\n",
        "                                    tf.keras.layers.Conv2D(32, (3,3), activation='relu'),\n",
        "                                    tf.keras.layers.MaxPooling2D(2, 2),\n",
        "                                    # Third Convolution\n",
        "                                    tf.keras.layers.Conv2D(32, (3,3), activation='relu'),\n",
        "                                    tf.keras.layers.MaxPooling2D(2, 2),\n",
        "\n",
        "                                    tf.keras.layers.Flatten(),\n",
        "                                    tf.keras.layers.Dense(512, activation='relu'),\n",
        "                                    tf.keras.layers.Dense(512, activation='relu'),\n",
        "                                    tf.keras.layers.Dense(6, activation='softmax'),\n",
        "\n",
        "\n",
        "                            \n",
        "\n",
        "])"
      ],
      "execution_count": 26,
      "outputs": []
    },
    {
      "cell_type": "code",
      "metadata": {
        "id": "xmSka_NbhCqq",
        "colab_type": "code",
        "colab": {
          "base_uri": "https://localhost:8080/",
          "height": 503
        },
        "outputId": "6dbe446b-5f15-4c49-fe1d-922a3426c548"
      },
      "source": [
        "model.summary()"
      ],
      "execution_count": 27,
      "outputs": [
        {
          "output_type": "stream",
          "text": [
            "Model: \"sequential_5\"\n",
            "_________________________________________________________________\n",
            "Layer (type)                 Output Shape              Param #   \n",
            "=================================================================\n",
            "conv2d_25 (Conv2D)           (None, 222, 222, 32)      896       \n",
            "_________________________________________________________________\n",
            "max_pooling2d_25 (MaxPooling (None, 111, 111, 32)      0         \n",
            "_________________________________________________________________\n",
            "conv2d_26 (Conv2D)           (None, 109, 109, 32)      9248      \n",
            "_________________________________________________________________\n",
            "max_pooling2d_26 (MaxPooling (None, 54, 54, 32)        0         \n",
            "_________________________________________________________________\n",
            "conv2d_27 (Conv2D)           (None, 52, 52, 32)        9248      \n",
            "_________________________________________________________________\n",
            "max_pooling2d_27 (MaxPooling (None, 26, 26, 32)        0         \n",
            "_________________________________________________________________\n",
            "flatten_5 (Flatten)          (None, 21632)             0         \n",
            "_________________________________________________________________\n",
            "dense_10 (Dense)             (None, 512)               11076096  \n",
            "_________________________________________________________________\n",
            "dense_11 (Dense)             (None, 512)               262656    \n",
            "_________________________________________________________________\n",
            "dense_12 (Dense)             (None, 6)                 3078      \n",
            "=================================================================\n",
            "Total params: 11,361,222\n",
            "Trainable params: 11,361,222\n",
            "Non-trainable params: 0\n",
            "_________________________________________________________________\n"
          ],
          "name": "stdout"
        }
      ]
    },
    {
      "cell_type": "code",
      "metadata": {
        "id": "C0flIA6GhFb1",
        "colab_type": "code",
        "colab": {}
      },
      "source": [
        "from tensorflow.keras.optimizers import RMSprop, Adam\n",
        "\n",
        "model.compile(loss='categorical_crossentropy',\n",
        "              optimizer= 'adam',\n",
        "              metrics=['accuracy'])"
      ],
      "execution_count": 30,
      "outputs": []
    },
    {
      "cell_type": "code",
      "metadata": {
        "id": "Dc5KMynShjiV",
        "colab_type": "code",
        "colab": {
          "base_uri": "https://localhost:8080/",
          "height": 35
        },
        "outputId": "8d5ebbfd-adfc-4184-cacc-130b94e5edbd"
      },
      "source": [
        "from tensorflow.keras.preprocessing.image import ImageDataGenerator\n",
        "\n",
        "# Rescaling images\n",
        "train_datagen = ImageDataGenerator(rescale=1/255)\n",
        "\n",
        "train_generator = train_datagen.flow_from_directory(\n",
        "    directory = '/content/NEU-DET/train/images/',\n",
        "    target_size = (224, 224),\n",
        "    batch_size = 60,\n",
        "    class_mode = 'categorical'\n",
        ")"
      ],
      "execution_count": 31,
      "outputs": [
        {
          "output_type": "stream",
          "text": [
            "Found 1440 images belonging to 6 classes.\n"
          ],
          "name": "stdout"
        }
      ]
    },
    {
      "cell_type": "code",
      "metadata": {
        "id": "bjF8FhBihtyM",
        "colab_type": "code",
        "colab": {
          "base_uri": "https://localhost:8080/",
          "height": 557
        },
        "outputId": "e93255d7-73e7-41e2-bca8-01fdff35cf4a"
      },
      "source": [
        "history = model.fit(\n",
        "    train_generator,\n",
        "    steps_per_epoch=8,\n",
        "    epochs=15,\n",
        "    verbose=1,\n",
        "    validation_data = test_generator \n",
        ")"
      ],
      "execution_count": 35,
      "outputs": [
        {
          "output_type": "stream",
          "text": [
            "Epoch 1/15\n",
            "8/8 [==============================] - 2s 236ms/step - loss: 0.2769 - accuracy: 0.8854 - val_loss: 0.2789 - val_accuracy: 0.9056\n",
            "Epoch 2/15\n",
            "8/8 [==============================] - 2s 208ms/step - loss: 0.3255 - accuracy: 0.8979 - val_loss: 0.3401 - val_accuracy: 0.8889\n",
            "Epoch 3/15\n",
            "8/8 [==============================] - 2s 210ms/step - loss: 0.4343 - accuracy: 0.8417 - val_loss: 1.1395 - val_accuracy: 0.5056\n",
            "Epoch 4/15\n",
            "8/8 [==============================] - 2s 210ms/step - loss: 0.4073 - accuracy: 0.8500 - val_loss: 1.2126 - val_accuracy: 0.5694\n",
            "Epoch 5/15\n",
            "8/8 [==============================] - 2s 209ms/step - loss: 0.2937 - accuracy: 0.9021 - val_loss: 0.5899 - val_accuracy: 0.7861\n",
            "Epoch 6/15\n",
            "8/8 [==============================] - 2s 210ms/step - loss: 0.2017 - accuracy: 0.9375 - val_loss: 0.5628 - val_accuracy: 0.8028\n",
            "Epoch 7/15\n",
            "8/8 [==============================] - 2s 212ms/step - loss: 0.2230 - accuracy: 0.9229 - val_loss: 0.5277 - val_accuracy: 0.8250\n",
            "Epoch 8/15\n",
            "8/8 [==============================] - 2s 209ms/step - loss: 0.2095 - accuracy: 0.9229 - val_loss: 0.4542 - val_accuracy: 0.8083\n",
            "Epoch 9/15\n",
            "8/8 [==============================] - 2s 220ms/step - loss: 0.1725 - accuracy: 0.9500 - val_loss: 0.2405 - val_accuracy: 0.9111\n",
            "Epoch 10/15\n",
            "8/8 [==============================] - 2s 208ms/step - loss: 0.1565 - accuracy: 0.9542 - val_loss: 0.3334 - val_accuracy: 0.8667\n",
            "Epoch 11/15\n",
            "8/8 [==============================] - 2s 210ms/step - loss: 0.1187 - accuracy: 0.9667 - val_loss: 0.6420 - val_accuracy: 0.8111\n",
            "Epoch 12/15\n",
            "8/8 [==============================] - 2s 209ms/step - loss: 0.1547 - accuracy: 0.9521 - val_loss: 0.6191 - val_accuracy: 0.8111\n",
            "Epoch 13/15\n",
            "8/8 [==============================] - 2s 208ms/step - loss: 0.0972 - accuracy: 0.9708 - val_loss: 0.3362 - val_accuracy: 0.8806\n",
            "Epoch 14/15\n",
            "8/8 [==============================] - 2s 231ms/step - loss: 0.1216 - accuracy: 0.9625 - val_loss: 0.4381 - val_accuracy: 0.8333\n",
            "Epoch 15/15\n",
            "8/8 [==============================] - 2s 210ms/step - loss: 0.1018 - accuracy: 0.9708 - val_loss: 0.3516 - val_accuracy: 0.8667\n"
          ],
          "name": "stdout"
        }
      ]
    },
    {
      "cell_type": "code",
      "metadata": {
        "id": "Zc0Kh23phzV0",
        "colab_type": "code",
        "colab": {
          "base_uri": "https://localhost:8080/",
          "height": 35
        },
        "outputId": "58fcaaa4-ce1d-4081-ba65-d12ee50cf901"
      },
      "source": [
        "test_datagen = ImageDataGenerator(rescale=1/255)\n",
        "\n",
        "test_generator = train_datagen.flow_from_directory(\n",
        "    directory = '/content/NEU-DET/validation/images/',\n",
        "    target_size = (224, 224),\n",
        "    batch_size = 60,\n",
        "    class_mode = 'categorical'\n",
        ")"
      ],
      "execution_count": 33,
      "outputs": [
        {
          "output_type": "stream",
          "text": [
            "Found 360 images belonging to 6 classes.\n"
          ],
          "name": "stdout"
        }
      ]
    },
    {
      "cell_type": "code",
      "metadata": {
        "id": "SmToLVEP1spD",
        "colab_type": "code",
        "colab": {}
      },
      "source": [
        ""
      ],
      "execution_count": null,
      "outputs": []
    }
  ]
}