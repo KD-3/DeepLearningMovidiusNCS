{
  "nbformat": 4,
  "nbformat_minor": 0,
  "metadata": {
    "colab": {
      "name": "BTP_MobileNet_Model.ipynb",
      "provenance": [],
      "authorship_tag": "ABX9TyOA6casfH36cpL6wCD15M4m"
    },
    "kernelspec": {
      "name": "python3",
      "display_name": "Python 3"
    }
  },
  "cells": [
    {
      "cell_type": "code",
      "metadata": {
        "id": "lqYgjUnuIef5",
        "colab_type": "code",
        "colab": {}
      },
      "source": [
        "from google.colab import drive\n",
        "drive.mount('/gdrive')"
      ],
      "execution_count": null,
      "outputs": []
    },
    {
      "cell_type": "code",
      "metadata": {
        "id": "DU1COoDOIpzj",
        "colab_type": "code",
        "colab": {}
      },
      "source": [
        "import os\n",
        "import zipfile\n",
        "\n",
        "local_zip = '/content/drive/My Drive/NEU-DET_new.zip'\n",
        "zip_ref = zipfile.ZipFile(local_zip, 'r')\n",
        "zip_ref.extractall('./')\n",
        "zip_ref.close()"
      ],
      "execution_count": null,
      "outputs": []
    },
    {
      "cell_type": "code",
      "metadata": {
        "id": "WyBGcxd6ItT0",
        "colab_type": "code",
        "colab": {}
      },
      "source": [
        "train_crazing_dir = os.path.join('/content/NEU-DET/train/images/crazing')\n",
        "train_inclusion_dir = os.path.join('/content/NEU-DET/train/images/inclusion/')\n",
        "train_patches_dir = os.path.join('/content/NEU-DET/train/images/patches/')\n",
        "train_pitted_surface_dir = os.path.join('/content/NEU-DET/train/images/pitted_surface/')\n",
        "train_rolledin_scale_dir = os.path.join('/content/NEU-DET/train/images/rolled-in_scale/')\n",
        "train_scratches_dir = os.path.join('/content/NEU-DET/train/images/scratches/')"
      ],
      "execution_count": null,
      "outputs": []
    },
    {
      "cell_type": "code",
      "metadata": {
        "id": "3yeLjM8PIwfC",
        "colab_type": "code",
        "colab": {}
      },
      "source": [
        "train_crazing_names = os.listdir(train_crazing_dir)\n",
        "train_inclusion_names = os.listdir(train_inclusion_dir)\n",
        "train_patches_names = os.listdir(train_patches_dir)\n",
        "train_pitted_surface_names = os.listdir(train_pitted_surface_dir)\n",
        "train_rolledin_scale_names = os.listdir(train_rolledin_scale_dir)\n",
        "train_scratches_names = os.listdir(train_scratches_dir)"
      ],
      "execution_count": null,
      "outputs": []
    },
    {
      "cell_type": "code",
      "metadata": {
        "id": "_MOhSnVtI0IQ",
        "colab_type": "code",
        "colab": {}
      },
      "source": [
        "print('total training crazing images:', len(train_crazing_names))\n",
        "print('total training crazing images:', len(train_inclusion_names))\n",
        "print('total training crazing images:', len(train_patches_names))\n",
        "print('total training crazing images:', len(train_pitted_surface_names))\n",
        "print('total training crazing images:', len(train_rolledin_scale_names))\n",
        "print('total training crazing images:', len(train_scratches_names))"
      ],
      "execution_count": null,
      "outputs": []
    },
    {
      "cell_type": "code",
      "metadata": {
        "id": "HCZHWcK7I58-",
        "colab_type": "code",
        "colab": {}
      },
      "source": [
        "from keras.applications.mobilenet import MobileNet\n",
        "from keras.models import Model\n",
        "from keras.layers import Dense, GlobalAveragePooling2D"
      ],
      "execution_count": null,
      "outputs": []
    },
    {
      "cell_type": "code",
      "metadata": {
        "id": "ycyNzNeGsHqM",
        "colab_type": "code",
        "colab": {}
      },
      "source": [
        "input_shape = (224, 224, 3)\n",
        "num_classes = 6\n",
        "conv_size = 32"
      ],
      "execution_count": null,
      "outputs": []
    },
    {
      "cell_type": "code",
      "metadata": {
        "id": "i2LWFO36sUrb",
        "colab_type": "code",
        "colab": {}
      },
      "source": [
        "MobileNet_model = MobileNet(include_top=False, input_shape=input_shape)"
      ],
      "execution_count": null,
      "outputs": []
    }
  ]
}